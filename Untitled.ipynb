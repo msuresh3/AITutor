{
 "cells": [
  {
   "cell_type": "code",
   "execution_count": null,
   "id": "86fa02da-5859-4b9b-a025-99f989ebe4d0",
   "metadata": {},
   "outputs": [
    {
     "name": "stdout",
     "output_type": "stream",
     "text": [
      "🌟 Welcome to AI Tutor! Let's learn AI/ML. Type 'exit' to quit.\n",
      "\n",
      "Topics: supervised_learning, neural_network\n"
     ]
    },
    {
     "name": "stdin",
     "output_type": "stream",
     "text": [
      "Choose a topic:  Machine Learning\n"
     ]
    },
    {
     "name": "stdout",
     "output_type": "stream",
     "text": [
      "Topic not found. Try again!\n",
      "\n",
      "Topics: supervised_learning, neural_network\n"
     ]
    },
    {
     "name": "stdin",
     "output_type": "stream",
     "text": [
      "Choose a topic:  supervised learning\n"
     ]
    },
    {
     "name": "stdout",
     "output_type": "stream",
     "text": [
      "Topic not found. Try again!\n",
      "\n",
      "Topics: supervised_learning, neural_network\n"
     ]
    },
    {
     "name": "stdin",
     "output_type": "stream",
     "text": [
      "Choose a topic:  supervised learning\n"
     ]
    },
    {
     "name": "stdout",
     "output_type": "stream",
     "text": [
      "Topic not found. Try again!\n",
      "\n",
      "Topics: supervised_learning, neural_network\n"
     ]
    },
    {
     "name": "stdin",
     "output_type": "stream",
     "text": [
      "Choose a topic:  supervised_learning\n"
     ]
    },
    {
     "name": "stdout",
     "output_type": "stream",
     "text": [
      "\n",
      "Supervised learning uses labeled data to train models. Example: Predicting exam grades based on study hours.\n"
     ]
    }
   ],
   "source": [
    "import random\n",
    "\n",
    "class AIMLTutor:\n",
    "    def __init__(self):\n",
    "        self.topics = {\n",
    "            \"supervised_learning\": {\n",
    "                \"explanation\": \"Supervised learning uses labeled data to train models. Example: Predicting exam grades based on study hours.\",\n",
    "                \"example_problem\": \"If a model is trained to predict pizza prices based on size, is this supervised learning? (Yes/No)\"\n",
    "            },\n",
    "            \"neural_network\": {\n",
    "                \"explanation\": \"A neural network is like a brain with layers! Input (data) → Hidden layers (processing) → Output (prediction).\",\n",
    "                \"example_problem\": \"How many layers are in a basic neural network? (a) 1 (b) 2 (c) 3\"\n",
    "            }\n",
    "        }\n",
    "\n",
    "    def explain_concept(self, topic):\n",
    "        return self.topics.get(topic, {}).get(\"explanation\", \"Topic not found.\")\n",
    "\n",
    "    def generate_problem(self, topic):\n",
    "        problem = self.topics.get(topic, {}).get(\"example_problem\", \"No problem available.\")\n",
    "        answer = \"Yes\" if \"supervised\" in topic else \"c\"  # Simplified for demo\n",
    "        return problem, answer\n",
    "\n",
    "    def start_lesson(self):\n",
    "        print(\"🌟 Welcome to AI Tutor! Let's learn AI/ML. Type 'exit' to quit.\")\n",
    "        while True:\n",
    "            print(\"\\nTopics: supervised_learning, neural_network\")\n",
    "            topic = input(\"Choose a topic: \").lower()\n",
    "            if topic == \"exit\":\n",
    "                break\n",
    "            if topic not in self.topics:\n",
    "                print(\"Topic not found. Try again!\")\n",
    "                continue\n",
    "            \n",
    "            # Explain concept\n",
    "            print(\"\\n\" + self.explain_concept(topic))\n",
    "            \n",
    "            # Generate problem\n",
    "            problem, answer = self.generate_problem(topic)\n",
    "            user_answer = input(f\"\\nProblem: {problem}\\nYour answer: \")\n",
    "            \n",
    "            if user_answer.lower() == answer.lower():\n",
    "                print(\"✅ Correct! Awesome!\")\n",
    "            else:\n",
    "                print(f\"❌ The answer is {answer}. Let's review the concept!\")\n",
    "\n",
    "# Run the tutor\n",
    "tutor = AIMLTutor()\n",
    "tutor.start_lesson()"
   ]
  },
  {
   "cell_type": "code",
   "execution_count": null,
   "id": "ee4b4281-928b-4239-b56c-843704867983",
   "metadata": {},
   "outputs": [],
   "source": []
  }
 ],
 "metadata": {
  "kernelspec": {
   "display_name": "Python [conda env:anaconda3-ds]",
   "language": "python",
   "name": "conda-env-anaconda3-ds-py"
  },
  "language_info": {
   "codemirror_mode": {
    "name": "ipython",
    "version": 3
   },
   "file_extension": ".py",
   "mimetype": "text/x-python",
   "name": "python",
   "nbconvert_exporter": "python",
   "pygments_lexer": "ipython3",
   "version": "3.12.8"
  }
 },
 "nbformat": 4,
 "nbformat_minor": 5
}
